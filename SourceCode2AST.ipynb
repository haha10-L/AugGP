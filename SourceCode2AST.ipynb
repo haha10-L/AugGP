{
 "cells": [
  {
   "cell_type": "code",
   "metadata": {
    "ExecuteTime": {
     "end_time": "2024-09-23T13:58:16.491126Z",
     "start_time": "2024-09-23T13:58:16.390594Z"
    }
   },
   "source": [
    "from solidity_parser import parser #you could find this repository in /utils/python-solidity-parser-master, official setup has a bug.\n",
    "import json\n",
    "import os"
   ],
   "outputs": [],
   "execution_count": 1
  },
  {
   "cell_type": "code",
   "metadata": {
    "ExecuteTime": {
     "end_time": "2024-09-23T13:58:16.507127Z",
     "start_time": "2024-09-23T13:58:16.492124Z"
    }
   },
   "source": [
    "def getASTandWrite2file(path, path1):\n",
    "    WrongFile = []\n",
    "    files = os.listdir(path)\n",
    "    for file in files:\n",
    "        try:\n",
    "            res = parser.parse_file(path+file)\n",
    "            result = json.dumps(res)\n",
    "            w = open(path1+file+'.json','w')\n",
    "            w.write(result)\n",
    "            w.close()\n",
    "        except:\n",
    "            WrongFile.append(file)\n",
    "    return WrongFile  #the functions cannot be processed."
   ],
   "outputs": [],
   "execution_count": 2
  },
  {
   "cell_type": "code",
   "metadata": {
    "ExecuteTime": {
     "end_time": "2024-09-23T13:58:28.343842Z",
     "start_time": "2024-09-23T13:58:16.508124Z"
    }
   },
   "source": [
    "wf1 = getASTandWrite2file('./tx.origin_no_v/Code/', './tx.origin_no_v/AST/')\n",
    "wf2 = getASTandWrite2file('./tx.origin_v/Code/', './tx.origin_v/AST/')\n",
    "#wf1 = getASTandWrite2file('./Eaxmple1/', './Eaxmple2/')\n",
    "#wf2 = getASTandWrite2file('../Arithmetic/Data/Source_data/v/', '../Arithmetic/Data/AST_vulnerable/')\n",
    "#wf1 = getASTandWrite2file('../Reentrancy/Data/Source_data/no_v/', '../Reentrancy/Data/AST_normal/')\n",
    "#wf2 = getASTandWrite2file('../Reentrancy/Data/Source_data/v/', '../Reentrancy/Data/AST_vulnerable/')"
   ],
   "outputs": [
    {
     "name": "stderr",
     "output_type": "stream",
     "text": [
      "line 7:64 extraneous input '/' expecting {'~', 'from', '{', '}', '(', 'error', 'for', 'function', '[', 'address', 'mapping', 'calldata', 'if', 'try', 'while', 'unchecked', 'assembly', 'do', 'return', 'throw', 'emit', 'revert', 'var', 'bool', 'string', 'byte', '++', '--', 'new', '+', '-', 'after', 'delete', '!', 'callback', Int, Uint, Byte, Fixed, Ufixed, BooleanLiteral, DecimalNumber, HexNumber, HexLiteralFragment, 'break', 'continue', 'leave', 'payable', 'type', 'constructor', 'receive', Identifier, StringLiteralFragment}\n",
      "line 4:0 extraneous input 'contract' expecting {'from', '}', 'error', 'using', 'struct', 'modifier', 'function', 'event', 'enum', 'address', 'mapping', 'calldata', 'revert', 'var', 'bool', 'string', 'byte', 'callback', Int, Uint, Byte, Fixed, Ufixed, 'leave', 'payable', 'type', 'constructor', 'fallback', 'receive', Identifier}\n",
      "line 4:14 mismatched input '{' expecting {'from', 'error', 'calldata', 'revert', 'callback', 'override', 'constant', 'immutable', 'leave', 'internal', 'payable', 'private', 'public', 'constructor', 'receive', Identifier}\n",
      "line 6:0 extraneous input 'contract' expecting {'from', '}', 'error', 'using', 'struct', 'modifier', 'function', 'event', 'enum', 'address', 'mapping', 'calldata', 'revert', 'var', 'bool', 'string', 'byte', 'callback', Int, Uint, Byte, Fixed, Ufixed, 'leave', 'payable', 'type', 'constructor', 'fallback', 'receive', Identifier}\n",
      "line 6:17 mismatched input '{' expecting {'from', 'error', 'calldata', 'revert', 'callback', 'override', 'constant', 'immutable', 'leave', 'internal', 'payable', 'private', 'public', 'constructor', 'receive', Identifier}\n",
      "line 5:28 mismatched input '(' expecting {';', '='}\n",
      "line 5:53 mismatched input ',' expecting {';', '='}\n",
      "line 5:66 mismatched input ',' expecting {';', '='}\n",
      "line 5:91 mismatched input ')' expecting {';', '='}\n",
      "line 6:9 extraneous input '(' expecting {'from', 'error', 'calldata', 'revert', 'callback', 'override', 'constant', 'immutable', 'leave', 'internal', 'payable', 'private', 'public', 'constructor', 'receive', Identifier}\n",
      "line 6:12 mismatched input '.' expecting {';', '='}\n",
      "line 6:20 extraneous input '==' expecting {'from', 'error', 'calldata', 'revert', 'callback', 'override', 'constant', 'immutable', 'leave', 'internal', 'payable', 'private', 'public', 'constructor', 'receive', Identifier}\n",
      "line 6:39 extraneous input ')' expecting {';', '='}\n",
      "line 7:18 extraneous input '(' expecting {'from', 'error', 'calldata', 'revert', 'callback', 'override', 'constant', 'immutable', 'leave', 'internal', 'payable', 'private', 'public', 'constructor', 'receive', Identifier}\n",
      "line 7:25 extraneous input ')' expecting {';', '='}\n",
      "line 9:0 extraneous input '}' expecting {<EOF>, 'pragma', 'import', 'from', 'abstract', 'contract', 'interface', 'library', 'error', 'struct', 'function', 'enum', 'address', 'mapping', 'calldata', 'revert', 'var', 'bool', 'string', 'byte', 'callback', Int, Uint, Byte, Fixed, Ufixed, 'leave', 'payable', 'type', 'constructor', 'fallback', 'receive', Identifier}\n",
      "line 7:0 extraneous input '<EOF>' expecting {'from', '}', 'error', 'using', 'struct', 'modifier', 'function', 'event', 'enum', 'address', 'mapping', 'calldata', 'revert', 'var', 'bool', 'string', 'byte', 'callback', Int, Uint, Byte, Fixed, Ufixed, 'leave', 'payable', 'type', 'constructor', 'fallback', 'receive', Identifier}\n",
      "line 8:33 token recognition error at: '）'\n",
      "line 8:15 missing ';' at '('\n",
      "line 9:1 missing ';' at 'receiver'\n",
      "line 7:10 no viable alternative at input 'uint256public'\n",
      "line 8:2 missing ';' at 'require'\n"
     ]
    }
   ],
   "execution_count": 3
  },
  {
   "cell_type": "code",
   "metadata": {
    "ExecuteTime": {
     "end_time": "2024-09-23T13:58:28.359928Z",
     "start_time": "2024-09-23T13:58:28.344841Z"
    }
   },
   "source": "len(wf1), len(wf2)",
   "outputs": [
    {
     "data": {
      "text/plain": [
       "(0, 4)"
      ]
     },
     "execution_count": 4,
     "metadata": {},
     "output_type": "execute_result"
    }
   ],
   "execution_count": 4
  },
  {
   "cell_type": "code",
   "source": [],
   "metadata": {
    "collapsed": false,
    "ExecuteTime": {
     "end_time": "2024-09-23T13:58:28.375976Z",
     "start_time": "2024-09-23T13:58:28.361043Z"
    }
   },
   "outputs": [],
   "execution_count": 4
  }
 ],
 "metadata": {
  "kernelspec": {
   "display_name": "Python 3",
   "language": "python",
   "name": "python3"
  },
  "language_info": {
   "codemirror_mode": {
    "name": "ipython",
    "version": 3
   },
   "file_extension": ".py",
   "mimetype": "text/x-python",
   "name": "python",
   "nbconvert_exporter": "python",
   "pygments_lexer": "ipython3",
   "version": "3.8.3"
  }
 },
 "nbformat": 4,
 "nbformat_minor": 4
}
